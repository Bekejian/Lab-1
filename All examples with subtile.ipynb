{
 "cells": [
  {
   "cell_type": "markdown",
   "id": "ab388616-a7b4-4f2a-b89e-8b77c2ed55b2",
   "metadata": {},
   "source": [
    "Example1"
   ]
  },
  {
   "cell_type": "code",
   "execution_count": 1,
   "id": "9137a0de-27c2-419c-a63b-c7e2c9cc9612",
   "metadata": {},
   "outputs": [
    {
     "name": "stdout",
     "output_type": "stream",
     "text": [
      "Hello World!\n"
     ]
    }
   ],
   "source": [
    "print(\"Hello World!\")"
   ]
  },
  {
   "cell_type": "markdown",
   "id": "2b8719bd-d314-4a79-81cf-d14a076fc0d6",
   "metadata": {},
   "source": [
    "Example2"
   ]
  },
  {
   "cell_type": "code",
   "execution_count": 3,
   "id": "69c45061-b7a7-491c-8b37-3642f74657bb",
   "metadata": {},
   "outputs": [
    {
     "name": "stdout",
     "output_type": "stream",
     "text": [
      "Five is greater than two!\n"
     ]
    }
   ],
   "source": [
    "if 5 > 2:\n",
    "  print(\"Five is greater than two!\")"
   ]
  },
  {
   "cell_type": "markdown",
   "id": "8c164f63-fd7b-4fbd-98a1-6a46c76a3f4d",
   "metadata": {},
   "source": [
    "Example3"
   ]
  },
  {
   "cell_type": "code",
   "execution_count": 13,
   "id": "ca39a279-c507-4747-928a-eb5101a697a8",
   "metadata": {},
   "outputs": [
    {
     "ename": "IndentationError",
     "evalue": "expected an indented block after 'if' statement on line 1 (3793329317.py, line 2)",
     "output_type": "error",
     "traceback": [
      "\u001b[1;36m  Cell \u001b[1;32mIn[13], line 2\u001b[1;36m\u001b[0m\n\u001b[1;33m    print(\"Five is greater than two!\")\u001b[0m\n\u001b[1;37m    ^\u001b[0m\n\u001b[1;31mIndentationError\u001b[0m\u001b[1;31m:\u001b[0m expected an indented block after 'if' statement on line 1\n"
     ]
    }
   ],
   "source": [
    "if 5 > 2:\n",
    "print(\"Five is greater than two!\")"
   ]
  },
  {
   "cell_type": "markdown",
   "id": "504abd7a-89e7-48ad-8f95-74654523fdd7",
   "metadata": {},
   "source": [
    "Example4"
   ]
  },
  {
   "cell_type": "code",
   "execution_count": 7,
   "id": "44d59f69-c7e1-48e1-a179-450ffba64cbd",
   "metadata": {},
   "outputs": [
    {
     "name": "stdout",
     "output_type": "stream",
     "text": [
      "Five is greater than two!\n",
      "Five is greater than two!\n"
     ]
    }
   ],
   "source": [
    "if 5 > 2:\n",
    " print(\"Five is greater than two!\") \n",
    "if 5 > 2:\n",
    "        print(\"Five is greater than two!\")"
   ]
  },
  {
   "cell_type": "markdown",
   "id": "d3bc726d-913c-4ba1-93bd-d449dc094bef",
   "metadata": {},
   "source": [
    "Example5"
   ]
  },
  {
   "cell_type": "code",
   "execution_count": 11,
   "id": "8b77bcd0-5601-4b3f-bf45-1068aed30c80",
   "metadata": {},
   "outputs": [
    {
     "ename": "IndentationError",
     "evalue": "unexpected indent (3430240237.py, line 3)",
     "output_type": "error",
     "traceback": [
      "\u001b[1;36m  Cell \u001b[1;32mIn[11], line 3\u001b[1;36m\u001b[0m\n\u001b[1;33m    print(\"Five is greater than two!\")\u001b[0m\n\u001b[1;37m    ^\u001b[0m\n\u001b[1;31mIndentationError\u001b[0m\u001b[1;31m:\u001b[0m unexpected indent\n"
     ]
    }
   ],
   "source": [
    "if 5 > 2:\n",
    " print(\"Five is greater than two!\")\n",
    "        print(\"Five is greater than two!\")"
   ]
  },
  {
   "cell_type": "markdown",
   "id": "17467e42-e166-4eba-9a73-5744445fcaab",
   "metadata": {},
   "source": [
    "Example6"
   ]
  },
  {
   "cell_type": "code",
   "execution_count": 16,
   "id": "ffb7abd1-fb1c-4f6a-b66c-8ef6ab953dce",
   "metadata": {},
   "outputs": [],
   "source": [
    "x = 5\n",
    "y = \"Hello, World!\""
   ]
  },
  {
   "cell_type": "markdown",
   "id": "a09ada60-afb4-4bb9-bb48-ee8ac4542238",
   "metadata": {},
   "source": [
    "Example7"
   ]
  },
  {
   "cell_type": "code",
   "execution_count": 19,
   "id": "89a081d9-faf0-4612-89ce-201c2b4ee1f6",
   "metadata": {},
   "outputs": [
    {
     "name": "stdout",
     "output_type": "stream",
     "text": [
      "Hello, World!\n"
     ]
    }
   ],
   "source": [
    "#This is a comment.\n",
    "print(\"Hello, World!\")"
   ]
  },
  {
   "cell_type": "markdown",
   "id": "1620ee88-cd07-4dad-836e-6f51c2b7c3e0",
   "metadata": {},
   "source": [
    "Example8"
   ]
  },
  {
   "cell_type": "code",
   "execution_count": 22,
   "id": "8dda0941-a278-45fe-93d0-9a0814555bd0",
   "metadata": {},
   "outputs": [
    {
     "name": "stdout",
     "output_type": "stream",
     "text": [
      "Hello, World!\n"
     ]
    }
   ],
   "source": [
    "print(\"Hello, World!\") #This is a comment"
   ]
  },
  {
   "cell_type": "markdown",
   "id": "20f7731f-b8be-4fc1-93aa-ed9f2e3e572c",
   "metadata": {},
   "source": [
    "Example9"
   ]
  },
  {
   "cell_type": "code",
   "execution_count": 25,
   "id": "99832c78-a220-43e5-9d7e-986ccc22ee2a",
   "metadata": {},
   "outputs": [
    {
     "name": "stdout",
     "output_type": "stream",
     "text": [
      "Cheers, Mate!\n"
     ]
    }
   ],
   "source": [
    "#print(\"Hello, World!\")\n",
    "print(\"Cheers, Mate!\")"
   ]
  },
  {
   "cell_type": "markdown",
   "id": "32158e9d-a034-40e9-92a0-0bff2a31d7d3",
   "metadata": {},
   "source": [
    "Example10"
   ]
  },
  {
   "cell_type": "code",
   "execution_count": 28,
   "id": "0cecd921-e554-4a81-87e3-992b2aea4cfd",
   "metadata": {},
   "outputs": [
    {
     "name": "stdout",
     "output_type": "stream",
     "text": [
      "Hello, World!\n"
     ]
    }
   ],
   "source": [
    "#This is a comment\n",
    "#written in\n",
    "#more than just one line\n",
    "print(\"Hello, World!\")"
   ]
  },
  {
   "cell_type": "markdown",
   "id": "a9ce4869-27df-4a8a-89ef-6a9ee13011fd",
   "metadata": {},
   "source": [
    "Example11"
   ]
  },
  {
   "cell_type": "code",
   "execution_count": 31,
   "id": "d92c344a-93aa-4a78-b37d-4fdf55309e2e",
   "metadata": {},
   "outputs": [
    {
     "name": "stdout",
     "output_type": "stream",
     "text": [
      "Hello, World!\n"
     ]
    }
   ],
   "source": [
    "\"\"\"\n",
    "This is a comment\n",
    "written in\n",
    "more than just one line\n",
    "\"\"\"\n",
    "print(\"Hello, World!\")"
   ]
  },
  {
   "cell_type": "markdown",
   "id": "870473ff-b379-4c2d-9168-0d67cb0e3d60",
   "metadata": {},
   "source": [
    "Example12"
   ]
  },
  {
   "cell_type": "code",
   "execution_count": 34,
   "id": "4705189c-12a5-43c9-91c3-bf43ddff7a63",
   "metadata": {},
   "outputs": [
    {
     "name": "stdout",
     "output_type": "stream",
     "text": [
      "5\n",
      "John\n"
     ]
    }
   ],
   "source": [
    "x = 5\n",
    "y = \"John\"\n",
    "print(x)\n",
    "print(y)"
   ]
  },
  {
   "cell_type": "markdown",
   "id": "9aa50f68-a335-4714-b51e-57251db20a0a",
   "metadata": {},
   "source": [
    "Example13"
   ]
  },
  {
   "cell_type": "code",
   "execution_count": 37,
   "id": "cf737049-3450-4431-ba9f-d79217102d88",
   "metadata": {},
   "outputs": [
    {
     "name": "stdout",
     "output_type": "stream",
     "text": [
      "Sally\n"
     ]
    }
   ],
   "source": [
    "x = 4       # x is of type int\n",
    "x = \"Sally\" # x is now of type str\n",
    "print(x)"
   ]
  },
  {
   "cell_type": "markdown",
   "id": "fd437663-1731-46dc-95f9-f786f68c9d3a",
   "metadata": {},
   "source": [
    "Example14"
   ]
  },
  {
   "cell_type": "code",
   "execution_count": 40,
   "id": "0ea413fc-d075-45ff-b7ca-05b110d3c103",
   "metadata": {},
   "outputs": [],
   "source": [
    "x = str(3)    # x will be '3'\n",
    "y = int(3)    # y will be 3\n",
    "z = float(3)  # z will be 3.0"
   ]
  },
  {
   "cell_type": "markdown",
   "id": "92028227-bc0c-451d-a7da-3f8805ba60a8",
   "metadata": {},
   "source": [
    "Example15"
   ]
  },
  {
   "cell_type": "code",
   "execution_count": 43,
   "id": "d9163d60-a801-4a19-ba93-4370d3432fd0",
   "metadata": {},
   "outputs": [
    {
     "name": "stdout",
     "output_type": "stream",
     "text": [
      "<class 'int'>\n",
      "<class 'str'>\n"
     ]
    }
   ],
   "source": [
    "x = 5\n",
    "y = \"John\"\n",
    "print(type(x))\n",
    "print(type(y))"
   ]
  },
  {
   "cell_type": "markdown",
   "id": "454cf08a-7207-4b6f-a26c-7d57adb5643a",
   "metadata": {},
   "source": [
    "Example16"
   ]
  },
  {
   "cell_type": "code",
   "execution_count": 46,
   "id": "8cdbaa03-7f6d-45a9-8aef-e593778b3931",
   "metadata": {},
   "outputs": [],
   "source": [
    "x = \"John\"\n",
    "# is the same as\n",
    "x = 'John'"
   ]
  },
  {
   "cell_type": "markdown",
   "id": "7a473a8e-a670-4af0-b036-f53c071370ec",
   "metadata": {},
   "source": [
    "Example17"
   ]
  },
  {
   "cell_type": "code",
   "execution_count": 49,
   "id": "eda0dfc1-dcf4-4f12-8ea0-10100997ca42",
   "metadata": {},
   "outputs": [],
   "source": [
    "a = 4\n",
    "A = \"Sally\"\n",
    "#A will not overwrite a"
   ]
  },
  {
   "cell_type": "markdown",
   "id": "1a7d4d78-8748-42c2-956e-4ae9977b6a6f",
   "metadata": {},
   "source": [
    "Example18"
   ]
  },
  {
   "cell_type": "code",
   "execution_count": 52,
   "id": "f6f0cb30-e0c8-44bb-8873-933e0a4c2c96",
   "metadata": {},
   "outputs": [],
   "source": [
    "myvar = \"John\"\n",
    "my_var = \"John\"\n",
    "_my_var = \"John\"\n",
    "myVar = \"John\"\n",
    "MYVAR = \"John\"\n",
    "myvar2 = \"John\""
   ]
  },
  {
   "cell_type": "markdown",
   "id": "ef4dbfff-a422-4f4a-8279-e982d29ee3e6",
   "metadata": {},
   "source": [
    "Exxample19"
   ]
  },
  {
   "cell_type": "code",
   "execution_count": 55,
   "id": "18ef643b-0788-49c2-aa5f-9668bbb7c1cf",
   "metadata": {},
   "outputs": [
    {
     "ename": "SyntaxError",
     "evalue": "invalid decimal literal (2185399839.py, line 1)",
     "output_type": "error",
     "traceback": [
      "\u001b[1;36m  Cell \u001b[1;32mIn[55], line 1\u001b[1;36m\u001b[0m\n\u001b[1;33m    2myvar = \"John\"\u001b[0m\n\u001b[1;37m    ^\u001b[0m\n\u001b[1;31mSyntaxError\u001b[0m\u001b[1;31m:\u001b[0m invalid decimal literal\n"
     ]
    }
   ],
   "source": [
    "2myvar = \"John\"\n",
    "my-var = \"John\"\n",
    "my var = \"John\""
   ]
  },
  {
   "cell_type": "markdown",
   "id": "a840fe44-7337-4ff3-abd9-62a729784a44",
   "metadata": {},
   "source": [
    "Example20"
   ]
  },
  {
   "cell_type": "code",
   "execution_count": 58,
   "id": "8f916dfd-c5ea-45a3-9c66-3a56a7c63a39",
   "metadata": {},
   "outputs": [
    {
     "name": "stdout",
     "output_type": "stream",
     "text": [
      "Orange\n",
      "Banana\n",
      "Cherry\n"
     ]
    }
   ],
   "source": [
    "x, y, z = \"Orange\", \"Banana\", \"Cherry\"\n",
    "print(x)\n",
    "print(y)\n",
    "print(z)"
   ]
  },
  {
   "cell_type": "markdown",
   "id": "523d2b72-bc46-40b9-8bf7-e1a2e661ddd8",
   "metadata": {},
   "source": [
    "Example21"
   ]
  },
  {
   "cell_type": "code",
   "execution_count": 61,
   "id": "6c86d77c-0afc-4b00-a7cb-033e9c7f72c1",
   "metadata": {},
   "outputs": [
    {
     "name": "stdout",
     "output_type": "stream",
     "text": [
      "Orange\n",
      "Orange\n",
      "Orange\n"
     ]
    }
   ],
   "source": [
    "x = y = z = \"Orange\"\n",
    "print(x)\n",
    "print(y)\n",
    "print(z)"
   ]
  },
  {
   "cell_type": "markdown",
   "id": "0feb7489-5753-41d5-80d9-a56135038f2e",
   "metadata": {},
   "source": [
    "Example22"
   ]
  },
  {
   "cell_type": "code",
   "execution_count": 64,
   "id": "bd7f0d33-7302-43cd-9879-a06e6589e886",
   "metadata": {},
   "outputs": [
    {
     "name": "stdout",
     "output_type": "stream",
     "text": [
      "apple\n",
      "banana\n",
      "cherry\n"
     ]
    }
   ],
   "source": [
    "fruits = [\"apple\", \"banana\", \"cherry\"]\n",
    "x, y, z = fruits\n",
    "print(x)\n",
    "print(y)\n",
    "print(z)"
   ]
  },
  {
   "cell_type": "markdown",
   "id": "8f074723-9c24-43dc-9850-ed857d455261",
   "metadata": {},
   "source": [
    "Example23"
   ]
  },
  {
   "cell_type": "code",
   "execution_count": 67,
   "id": "57c41b37-ac7f-4de3-9593-c93d60428d1f",
   "metadata": {},
   "outputs": [
    {
     "name": "stdout",
     "output_type": "stream",
     "text": [
      "Python is awesome\n"
     ]
    }
   ],
   "source": [
    "x = \"Python is awesome\"\n",
    "print(x)"
   ]
  },
  {
   "cell_type": "markdown",
   "id": "9e91f6f8-e702-444d-a8da-3149931e10bb",
   "metadata": {},
   "source": [
    "Example24"
   ]
  },
  {
   "cell_type": "code",
   "execution_count": 70,
   "id": "69a971aa-7bfe-481e-ba45-8ff464f5c252",
   "metadata": {},
   "outputs": [
    {
     "name": "stdout",
     "output_type": "stream",
     "text": [
      "Python is awesome\n"
     ]
    }
   ],
   "source": [
    "x = \"Python\"\n",
    "y = \"is\"\n",
    "z = \"awesome\"\n",
    "print(x, y, z)"
   ]
  },
  {
   "cell_type": "markdown",
   "id": "38aff628-dfcb-4eea-828a-3073f255d997",
   "metadata": {},
   "source": [
    "Example25"
   ]
  },
  {
   "cell_type": "code",
   "execution_count": 73,
   "id": "277ce873-424e-4a2a-9604-ba5500103a5b",
   "metadata": {},
   "outputs": [
    {
     "name": "stdout",
     "output_type": "stream",
     "text": [
      "Python is awesome\n"
     ]
    }
   ],
   "source": [
    "x = \"Python \"\n",
    "y = \"is \"\n",
    "z = \"awesome\"\n",
    "print(x + y + z)"
   ]
  },
  {
   "cell_type": "markdown",
   "id": "9a1ea377-1a4d-42ce-a726-7d2aba07ce87",
   "metadata": {},
   "source": [
    "Example26"
   ]
  },
  {
   "cell_type": "code",
   "execution_count": 76,
   "id": "d42ebd6a-b39b-479f-ac3b-45d004601f99",
   "metadata": {},
   "outputs": [
    {
     "name": "stdout",
     "output_type": "stream",
     "text": [
      "15\n"
     ]
    }
   ],
   "source": [
    "x = 5\n",
    "y = 10\n",
    "print(x + y)"
   ]
  },
  {
   "cell_type": "markdown",
   "id": "4f58dddd-f628-41d0-8134-4371f9fee4a4",
   "metadata": {},
   "source": [
    "Example27"
   ]
  },
  {
   "cell_type": "code",
   "execution_count": 79,
   "id": "5427b98b-47ec-4edf-b091-1a24275717ce",
   "metadata": {},
   "outputs": [
    {
     "ename": "TypeError",
     "evalue": "unsupported operand type(s) for +: 'int' and 'str'",
     "output_type": "error",
     "traceback": [
      "\u001b[1;31m---------------------------------------------------------------------------\u001b[0m",
      "\u001b[1;31mTypeError\u001b[0m                                 Traceback (most recent call last)",
      "Cell \u001b[1;32mIn[79], line 3\u001b[0m\n\u001b[0;32m      1\u001b[0m x \u001b[38;5;241m=\u001b[39m \u001b[38;5;241m5\u001b[39m\n\u001b[0;32m      2\u001b[0m y \u001b[38;5;241m=\u001b[39m \u001b[38;5;124m\"\u001b[39m\u001b[38;5;124mJohn\u001b[39m\u001b[38;5;124m\"\u001b[39m\n\u001b[1;32m----> 3\u001b[0m \u001b[38;5;28mprint\u001b[39m(x \u001b[38;5;241m+\u001b[39m y)\n",
      "\u001b[1;31mTypeError\u001b[0m: unsupported operand type(s) for +: 'int' and 'str'"
     ]
    }
   ],
   "source": [
    "x = 5\n",
    "y = \"John\"\n",
    "print(x + y)"
   ]
  },
  {
   "cell_type": "markdown",
   "id": "85266340-961e-4888-8d1e-176c63d96594",
   "metadata": {},
   "source": [
    "Example28"
   ]
  },
  {
   "cell_type": "code",
   "execution_count": 82,
   "id": "0b83d302-e818-4ff9-b4bd-2cf7eb42a1dd",
   "metadata": {},
   "outputs": [
    {
     "name": "stdout",
     "output_type": "stream",
     "text": [
      "5 John\n"
     ]
    }
   ],
   "source": [
    "x = 5\n",
    "y = \"John\"\n",
    "print(x, y)"
   ]
  },
  {
   "cell_type": "markdown",
   "id": "c17d5d30-e021-4f9b-8b0b-eacd79986f8d",
   "metadata": {},
   "source": [
    "Example29"
   ]
  },
  {
   "cell_type": "code",
   "execution_count": 85,
   "id": "7dec9781-3539-45e4-b09a-02feb9aa5962",
   "metadata": {},
   "outputs": [
    {
     "name": "stdout",
     "output_type": "stream",
     "text": [
      "Python is awesome\n"
     ]
    }
   ],
   "source": [
    "x = \"awesome\"\n",
    "\n",
    "def myfunc():\n",
    "  print(\"Python is \" + x)\n",
    "\n",
    "myfunc()"
   ]
  },
  {
   "cell_type": "markdown",
   "id": "6ddb6bc4-23d3-4dd1-b3cf-0c4d09b2c3f3",
   "metadata": {},
   "source": [
    "Example30"
   ]
  },
  {
   "cell_type": "code",
   "execution_count": 89,
   "id": "70b12c62-c35e-4de9-b8cc-69e04e7179cf",
   "metadata": {},
   "outputs": [
    {
     "name": "stdout",
     "output_type": "stream",
     "text": [
      "Python is fantastic\n",
      "Python is awesome\n"
     ]
    }
   ],
   "source": [
    "x = \"awesome\"\n",
    "\n",
    "def myfunc():\n",
    "  x = \"fantastic\"\n",
    "  print(\"Python is \" + x)\n",
    "\n",
    "myfunc()\n",
    "\n",
    "print(\"Python is \" + x)"
   ]
  },
  {
   "cell_type": "markdown",
   "id": "43985e61-2503-4f06-a95a-3a9a23510159",
   "metadata": {},
   "source": [
    "Example31"
   ]
  },
  {
   "cell_type": "code",
   "execution_count": 93,
   "id": "e91622b1-cef6-4943-80f4-14f185732190",
   "metadata": {},
   "outputs": [
    {
     "name": "stdout",
     "output_type": "stream",
     "text": [
      "Python is fantastic\n"
     ]
    }
   ],
   "source": [
    "def myfunc():\n",
    "  global x\n",
    "  x = \"fantastic\"\n",
    "\n",
    "myfunc()\n",
    "\n",
    "print(\"Python is \" + x)"
   ]
  },
  {
   "cell_type": "markdown",
   "id": "2ab5c83f-fc10-41a8-936c-cb5d6fcced89",
   "metadata": {},
   "source": [
    "Example32"
   ]
  },
  {
   "cell_type": "code",
   "execution_count": 96,
   "id": "d88b0bdf-b9b6-4c1b-a020-56261d8b6e3b",
   "metadata": {},
   "outputs": [
    {
     "name": "stdout",
     "output_type": "stream",
     "text": [
      "Python is fantastic\n"
     ]
    }
   ],
   "source": [
    "x = \"awesome\"\n",
    "\n",
    "def myfunc():\n",
    "  global x\n",
    "  x = \"fantastic\"\n",
    "\n",
    "myfunc()\n",
    "\n",
    "print(\"Python is \" + x)"
   ]
  },
  {
   "cell_type": "markdown",
   "id": "49df32ce-d8d5-433b-afb4-56b5d52755db",
   "metadata": {},
   "source": [
    "Example33"
   ]
  },
  {
   "cell_type": "code",
   "execution_count": 99,
   "id": "bff162bc-7ace-40c4-903c-8cc5594cb102",
   "metadata": {},
   "outputs": [
    {
     "name": "stdout",
     "output_type": "stream",
     "text": [
      "<class 'int'>\n"
     ]
    }
   ],
   "source": [
    "x = 5\n",
    "print(type(x))"
   ]
  },
  {
   "cell_type": "markdown",
   "id": "7efb6ca3-9f96-44eb-91d1-5deda3090d1c",
   "metadata": {},
   "source": [
    "Example34"
   ]
  },
  {
   "cell_type": "code",
   "execution_count": 105,
   "id": "ed735358-0429-47d8-a822-d9817a34e21d",
   "metadata": {},
   "outputs": [
    {
     "name": "stdout",
     "output_type": "stream",
     "text": [
      "<class 'int'>\n",
      "<class 'float'>\n",
      "<class 'complex'>\n"
     ]
    }
   ],
   "source": [
    "x = 1    # int\n",
    "y = 2.8  # float\n",
    "z = 1j   # complex\n",
    "print(type(x))\n",
    "print(type(y))\n",
    "print(type(z))"
   ]
  },
  {
   "cell_type": "markdown",
   "id": "90cda59e-0ea3-41ef-a944-c9e67abadd87",
   "metadata": {},
   "source": [
    "Example35"
   ]
  },
  {
   "cell_type": "code",
   "execution_count": 1,
   "id": "656a84e7-24f9-4167-b71d-ab68fdf63688",
   "metadata": {},
   "outputs": [
    {
     "name": "stdout",
     "output_type": "stream",
     "text": [
      "<class 'int'>\n",
      "<class 'int'>\n",
      "<class 'int'>\n"
     ]
    }
   ],
   "source": [
    "x = 1\n",
    "y = 35656222554887711\n",
    "z = -3255522\n",
    "\n",
    "print(type(x))\n",
    "print(type(y))\n",
    "print(type(z))"
   ]
  },
  {
   "cell_type": "markdown",
   "id": "7b46cd7b-7bea-4007-adee-2725483d2721",
   "metadata": {},
   "source": [
    "Example36"
   ]
  },
  {
   "cell_type": "code",
   "execution_count": 4,
   "id": "084f2a95-ce2e-4927-9414-0444e08856bc",
   "metadata": {},
   "outputs": [
    {
     "name": "stdout",
     "output_type": "stream",
     "text": [
      "<class 'float'>\n",
      "<class 'float'>\n",
      "<class 'float'>\n"
     ]
    }
   ],
   "source": [
    "x = 1.10\n",
    "y = 1.0\n",
    "z = -35.59\n",
    "\n",
    "print(type(x))\n",
    "print(type(y))\n",
    "print(type(z))"
   ]
  },
  {
   "cell_type": "markdown",
   "id": "10b90bea-928d-46a8-8126-59f2f2df92cf",
   "metadata": {},
   "source": [
    "Example37"
   ]
  },
  {
   "cell_type": "code",
   "execution_count": 7,
   "id": "16d6ba42-313a-48a3-b791-d9f046b920c8",
   "metadata": {},
   "outputs": [
    {
     "name": "stdout",
     "output_type": "stream",
     "text": [
      "<class 'float'>\n",
      "<class 'float'>\n",
      "<class 'float'>\n"
     ]
    }
   ],
   "source": [
    "x = 35e3\n",
    "y = 12E4\n",
    "z = -87.7e100\n",
    "\n",
    "print(type(x))\n",
    "print(type(y))\n",
    "print(type(z))\n"
   ]
  },
  {
   "cell_type": "markdown",
   "id": "ef6850e4-ee6a-42d9-8cfb-3a9a8758a997",
   "metadata": {},
   "source": [
    "Example38"
   ]
  },
  {
   "cell_type": "code",
   "execution_count": 10,
   "id": "9927c04f-69cb-4ca9-924e-76340fd4b440",
   "metadata": {},
   "outputs": [
    {
     "name": "stdout",
     "output_type": "stream",
     "text": [
      "<class 'complex'>\n",
      "<class 'complex'>\n",
      "<class 'complex'>\n"
     ]
    }
   ],
   "source": [
    "x = 3+5j\n",
    "y = 5j\n",
    "z = -5j\n",
    "\n",
    "print(type(x))\n",
    "print(type(y))\n",
    "print(type(z))"
   ]
  },
  {
   "cell_type": "markdown",
   "id": "51d449d4-daa5-4ad9-8170-51d6750f8d6f",
   "metadata": {},
   "source": [
    "Example39"
   ]
  },
  {
   "cell_type": "code",
   "execution_count": 13,
   "id": "02348344-8616-4a8c-bb3e-33153060dbd0",
   "metadata": {},
   "outputs": [
    {
     "name": "stdout",
     "output_type": "stream",
     "text": [
      "1.0\n",
      "2\n",
      "(1+0j)\n",
      "<class 'float'>\n",
      "<class 'int'>\n",
      "<class 'complex'>\n"
     ]
    }
   ],
   "source": [
    "x = 1    # int\n",
    "y = 2.8  # float\n",
    "z = 1j   # complex\n",
    "\n",
    "#convert from int to float:\n",
    "a = float(x)\n",
    "\n",
    "#convert from float to int:\n",
    "b = int(y)\n",
    "\n",
    "#convert from int to complex:\n",
    "c = complex(x)\n",
    "\n",
    "print(a)\n",
    "print(b)\n",
    "print(c)\n",
    "\n",
    "print(type(a))\n",
    "print(type(b))\n",
    "print(type(c))"
   ]
  },
  {
   "cell_type": "markdown",
   "id": "c35c0ee7-73d2-4d1b-a15d-05d81a609683",
   "metadata": {},
   "source": [
    "Example40"
   ]
  },
  {
   "cell_type": "code",
   "execution_count": 18,
   "id": "51f38843-0aea-4f3b-ac96-7ca41982700d",
   "metadata": {},
   "outputs": [
    {
     "name": "stdout",
     "output_type": "stream",
     "text": [
      "4\n"
     ]
    }
   ],
   "source": [
    "import random\n",
    "\n",
    "print(random.randrange(1, 10))"
   ]
  },
  {
   "cell_type": "markdown",
   "id": "ec60f79f-ae99-41c0-a9f9-fe104db6d2ef",
   "metadata": {},
   "source": [
    "Example41"
   ]
  },
  {
   "cell_type": "code",
   "execution_count": 21,
   "id": "1f3628c7-0ca7-4801-96ce-b19f3827482c",
   "metadata": {},
   "outputs": [],
   "source": [
    "x = int(1)   # x will be 1\n",
    "y = int(2.8) # y will be 2\n",
    "z = int(\"3\") # z will be 3"
   ]
  },
  {
   "cell_type": "markdown",
   "id": "59ba10bb-dd03-484e-a6f1-4de8b3fa67e8",
   "metadata": {},
   "source": [
    "Example42"
   ]
  },
  {
   "cell_type": "code",
   "execution_count": 24,
   "id": "e4e3eb7e-8238-4791-a7d1-fb4b2856cf5a",
   "metadata": {},
   "outputs": [],
   "source": [
    "x = float(1)     # x will be 1.0\n",
    "y = float(2.8)   # y will be 2.8\n",
    "z = float(\"3\")   # z will be 3.0\n",
    "w = float(\"4.2\") # w will be 4.2"
   ]
  },
  {
   "cell_type": "markdown",
   "id": "b2f85c75-b49d-4048-a79f-1fc2e8eb92dd",
   "metadata": {},
   "source": [
    "Example43"
   ]
  },
  {
   "cell_type": "code",
   "execution_count": 27,
   "id": "1fef9996-4839-4ccf-a750-3b01a751b75f",
   "metadata": {},
   "outputs": [],
   "source": [
    "x = str(\"s1\") # x will be 's1'\n",
    "y = str(2)    # y will be '2'\n",
    "z = str(3.0)  # z will be '3.0'"
   ]
  },
  {
   "cell_type": "markdown",
   "id": "19370a1e-f86b-48ad-a620-6eb1b2e2c1df",
   "metadata": {},
   "source": [
    "Example44"
   ]
  },
  {
   "cell_type": "code",
   "execution_count": 30,
   "id": "018e644a-aa75-4bfa-b9ac-80df7259f729",
   "metadata": {},
   "outputs": [
    {
     "name": "stdout",
     "output_type": "stream",
     "text": [
      "Hello\n",
      "Hello\n"
     ]
    }
   ],
   "source": [
    "print(\"Hello\")\n",
    "print('Hello')"
   ]
  },
  {
   "cell_type": "markdown",
   "id": "f7acaf98-e8ea-4087-9bec-06f6b378d8e1",
   "metadata": {},
   "source": [
    "Example45"
   ]
  },
  {
   "cell_type": "code",
   "execution_count": 33,
   "id": "b26541bf-3f97-4ddf-ab2a-6b92ccab1fd6",
   "metadata": {},
   "outputs": [
    {
     "name": "stdout",
     "output_type": "stream",
     "text": [
      "It's alright\n",
      "He is called 'Johnny'\n",
      "He is called \"Johnny\"\n"
     ]
    }
   ],
   "source": [
    "print(\"It's alright\")\n",
    "print(\"He is called 'Johnny'\")\n",
    "print('He is called \"Johnny\"')"
   ]
  },
  {
   "cell_type": "markdown",
   "id": "57c23c29-31b8-4e6e-bc5a-a8d1bd5c667d",
   "metadata": {},
   "source": [
    "Example46"
   ]
  },
  {
   "cell_type": "code",
   "execution_count": 36,
   "id": "2d43ff90-14d0-4d74-a883-49fa15dd6905",
   "metadata": {},
   "outputs": [
    {
     "name": "stdout",
     "output_type": "stream",
     "text": [
      "Hello\n"
     ]
    }
   ],
   "source": [
    "a = \"Hello\"\n",
    "print(a)"
   ]
  },
  {
   "cell_type": "markdown",
   "id": "841a31d8-1967-4db0-af64-bdf2cea028d5",
   "metadata": {},
   "source": [
    "Example47"
   ]
  },
  {
   "cell_type": "code",
   "execution_count": 39,
   "id": "7ab434a0-fb1b-493c-b555-fee669ae224b",
   "metadata": {},
   "outputs": [
    {
     "name": "stdout",
     "output_type": "stream",
     "text": [
      "Lorem ipsum dolor sit amet,\n",
      "consectetur adipiscing elit,\n",
      "sed do eiusmod tempor incididunt\n",
      "ut labore et dolore magna aliqua.\n"
     ]
    }
   ],
   "source": [
    "a = \"\"\"Lorem ipsum dolor sit amet,\n",
    "consectetur adipiscing elit,\n",
    "sed do eiusmod tempor incididunt\n",
    "ut labore et dolore magna aliqua.\"\"\"\n",
    "print(a)"
   ]
  },
  {
   "cell_type": "markdown",
   "id": "a96752b7-ece0-4472-ab0e-140076b39e92",
   "metadata": {},
   "source": [
    "Example48"
   ]
  },
  {
   "cell_type": "code",
   "execution_count": 42,
   "id": "a51d7d45-fb53-4686-8be2-70d5d4738bd0",
   "metadata": {},
   "outputs": [
    {
     "name": "stdout",
     "output_type": "stream",
     "text": [
      "Lorem ipsum dolor sit amet,\n",
      "consectetur adipiscing elit,\n",
      "sed do eiusmod tempor incididunt\n",
      "ut labore et dolore magna aliqua.\n"
     ]
    }
   ],
   "source": [
    "a = '''Lorem ipsum dolor sit amet,\n",
    "consectetur adipiscing elit,\n",
    "sed do eiusmod tempor incididunt\n",
    "ut labore et dolore magna aliqua.'''\n",
    "print(a)"
   ]
  },
  {
   "cell_type": "markdown",
   "id": "83473e50-1b31-4919-8f80-98248cd61480",
   "metadata": {},
   "source": [
    "Example49"
   ]
  },
  {
   "cell_type": "code",
   "execution_count": 45,
   "id": "2467e7e0-470b-4ece-a775-3260f7505c2c",
   "metadata": {},
   "outputs": [
    {
     "name": "stdout",
     "output_type": "stream",
     "text": [
      "e\n"
     ]
    }
   ],
   "source": [
    "a = \"Hello, World!\"\n",
    "print(a[1])"
   ]
  },
  {
   "cell_type": "markdown",
   "id": "73f6015a-80ea-4eda-b758-447fabf71533",
   "metadata": {},
   "source": [
    "Example50"
   ]
  },
  {
   "cell_type": "code",
   "execution_count": 48,
   "id": "d644aedd-8981-474f-a0b5-1aafff1dea3e",
   "metadata": {},
   "outputs": [
    {
     "name": "stdout",
     "output_type": "stream",
     "text": [
      "b\n",
      "a\n",
      "n\n",
      "a\n",
      "n\n",
      "a\n"
     ]
    }
   ],
   "source": [
    "for x in \"banana\":\n",
    "  print(x)"
   ]
  },
  {
   "cell_type": "markdown",
   "id": "33b23baa-4adb-4b9f-bd5f-dbf9f246b929",
   "metadata": {},
   "source": [
    "Example51"
   ]
  },
  {
   "cell_type": "code",
   "execution_count": 51,
   "id": "0c93cf2b-5c77-48fd-84d8-a9e094941c2c",
   "metadata": {},
   "outputs": [
    {
     "name": "stdout",
     "output_type": "stream",
     "text": [
      "13\n"
     ]
    }
   ],
   "source": [
    "a = \"Hello, World!\"\n",
    "print(len(a))"
   ]
  },
  {
   "cell_type": "markdown",
   "id": "cc8df959-2c30-42ae-943e-8cf6b979633a",
   "metadata": {},
   "source": [
    "Example52"
   ]
  },
  {
   "cell_type": "code",
   "execution_count": 54,
   "id": "8ef4140c-4236-4092-b263-5c1185fd0d1e",
   "metadata": {},
   "outputs": [
    {
     "name": "stdout",
     "output_type": "stream",
     "text": [
      "True\n"
     ]
    }
   ],
   "source": [
    "txt = \"The best things in life are free!\"\n",
    "print(\"free\" in txt)"
   ]
  },
  {
   "cell_type": "markdown",
   "id": "743f5bd2-8610-4282-8c7c-77c891a6adf6",
   "metadata": {},
   "source": [
    "Example53"
   ]
  },
  {
   "cell_type": "code",
   "execution_count": 57,
   "id": "611122be-6d28-471d-8be4-e19fe981fff8",
   "metadata": {},
   "outputs": [
    {
     "name": "stdout",
     "output_type": "stream",
     "text": [
      "Yes, 'free' is present.\n"
     ]
    }
   ],
   "source": [
    "txt = \"The best things in life are free!\"\n",
    "if \"free\" in txt:\n",
    "  print(\"Yes, 'free' is present.\")\n"
   ]
  },
  {
   "cell_type": "markdown",
   "id": "e1acea23-405d-432e-8d35-26d4181c1145",
   "metadata": {},
   "source": [
    "Example54"
   ]
  },
  {
   "cell_type": "code",
   "execution_count": 60,
   "id": "fa8f220b-f439-4418-9621-6309100e0e9b",
   "metadata": {},
   "outputs": [
    {
     "name": "stdout",
     "output_type": "stream",
     "text": [
      "True\n"
     ]
    }
   ],
   "source": [
    "txt = \"The best things in life are free!\"\n",
    "print(\"expensive\" not in txt)"
   ]
  },
  {
   "cell_type": "markdown",
   "id": "b6b72736-265b-498a-8a19-32b0099ca52e",
   "metadata": {},
   "source": [
    "Example55"
   ]
  },
  {
   "cell_type": "code",
   "execution_count": 63,
   "id": "b3aee185-1109-4fdb-9947-9f4ea486c5f7",
   "metadata": {},
   "outputs": [
    {
     "name": "stdout",
     "output_type": "stream",
     "text": [
      "No, 'expensive' is NOT present.\n"
     ]
    }
   ],
   "source": [
    "txt = \"The best things in life are free!\"\n",
    "if \"expensive\" not in txt:\n",
    "  print(\"No, 'expensive' is NOT present.\")"
   ]
  },
  {
   "cell_type": "markdown",
   "id": "5a2aedd6-35f4-42ee-9e67-92b78b91a43e",
   "metadata": {},
   "source": [
    "Example56"
   ]
  },
  {
   "cell_type": "code",
   "execution_count": 68,
   "id": "aa12a67a-6e3a-4a58-b4f6-7de5b8bb1da3",
   "metadata": {},
   "outputs": [
    {
     "name": "stdout",
     "output_type": "stream",
     "text": [
      "llo,\n"
     ]
    }
   ],
   "source": [
    "b = \"Hello, World!\"\n",
    "print(b[2:5])"
   ]
  },
  {
   "cell_type": "markdown",
   "id": "4aead8e4-f969-4f60-be57-27d35516ebff",
   "metadata": {},
   "source": [
    "Example57"
   ]
  },
  {
   "cell_type": "code",
   "execution_count": 71,
   "id": "47c73900-438c-4d48-bf33-e81a18f37195",
   "metadata": {},
   "outputs": [
    {
     "name": "stdout",
     "output_type": "stream",
     "text": [
      "Hello\n"
     ]
    }
   ],
   "source": [
    "b = \"Hello, World!\"\n",
    "print(b[:5])"
   ]
  },
  {
   "cell_type": "markdown",
   "id": "ac92b807-8d56-431c-bed2-36e0eb990fae",
   "metadata": {},
   "source": [
    "Example58"
   ]
  },
  {
   "cell_type": "code",
   "execution_count": 74,
   "id": "7a152281-433d-4cc9-b46f-d7571acc4df7",
   "metadata": {},
   "outputs": [
    {
     "name": "stdout",
     "output_type": "stream",
     "text": [
      "llo, World!\n"
     ]
    }
   ],
   "source": [
    "b = \"Hello, World!\"\n",
    "print(b[2:])"
   ]
  },
  {
   "cell_type": "markdown",
   "id": "0374d2bf-778d-4d2c-85e3-6e4214054d63",
   "metadata": {},
   "source": [
    "Example59"
   ]
  },
  {
   "cell_type": "code",
   "execution_count": 78,
   "id": "aeed3ada-2ae7-4af7-ada5-3b8abb14a487",
   "metadata": {},
   "outputs": [
    {
     "name": "stdout",
     "output_type": "stream",
     "text": [
      "orl\n"
     ]
    }
   ],
   "source": [
    "b = \"Hello, World!\"\n",
    "print(b[-5:-2])"
   ]
  },
  {
   "cell_type": "markdown",
   "id": "e59088d2-fcba-4b27-9e22-a353b6d32c59",
   "metadata": {},
   "source": [
    "Example60"
   ]
  },
  {
   "cell_type": "code",
   "execution_count": 83,
   "id": "59a7b391-8f89-4eaf-b539-2a86ea8e4cec",
   "metadata": {},
   "outputs": [
    {
     "name": "stdout",
     "output_type": "stream",
     "text": [
      "HELLO, WORLD!\n"
     ]
    }
   ],
   "source": [
    "a = \"Hello, World!\"\n",
    "print(a.upper())"
   ]
  },
  {
   "cell_type": "markdown",
   "id": "fab9bfa3-121d-4fd2-862d-a7ad0e41dbbe",
   "metadata": {},
   "source": [
    "Example61"
   ]
  },
  {
   "cell_type": "code",
   "execution_count": 87,
   "id": "92f3f3da-318b-473d-b47d-b5da519b9c55",
   "metadata": {},
   "outputs": [
    {
     "name": "stdout",
     "output_type": "stream",
     "text": [
      "hello, world!\n"
     ]
    }
   ],
   "source": [
    "a = \"Hello, World!\"\n",
    "print(a.lower())"
   ]
  },
  {
   "cell_type": "markdown",
   "id": "7c45ca48-adbc-48df-be10-892f5eecd354",
   "metadata": {},
   "source": [
    "Example62"
   ]
  },
  {
   "cell_type": "code",
   "execution_count": 90,
   "id": "700ba5a6-32ae-49c8-b54e-3ca6c5b28451",
   "metadata": {},
   "outputs": [
    {
     "name": "stdout",
     "output_type": "stream",
     "text": [
      "Hello, World!\n"
     ]
    }
   ],
   "source": [
    "a = \" Hello, World! \"\n",
    "print(a.strip()) # returns \"Hello, World!\""
   ]
  },
  {
   "cell_type": "markdown",
   "id": "d2df0d98-d7a6-408d-90d3-a1bc668ad727",
   "metadata": {},
   "source": [
    "Example63"
   ]
  },
  {
   "cell_type": "code",
   "execution_count": 93,
   "id": "169f31e3-37ee-4a36-a792-3a0f2626f2eb",
   "metadata": {},
   "outputs": [
    {
     "name": "stdout",
     "output_type": "stream",
     "text": [
      "Jello, World!\n"
     ]
    }
   ],
   "source": [
    "a = \"Hello, World!\"\n",
    "print(a.replace(\"H\", \"J\"))"
   ]
  },
  {
   "cell_type": "markdown",
   "id": "7c6619bb-fdef-4e5a-83a2-ea159f95be50",
   "metadata": {},
   "source": [
    "Example64"
   ]
  },
  {
   "cell_type": "code",
   "execution_count": 96,
   "id": "b553f27f-ae03-4f51-a5d7-65df46bcaa3b",
   "metadata": {},
   "outputs": [
    {
     "name": "stdout",
     "output_type": "stream",
     "text": [
      "['Hello', ' World!']\n"
     ]
    }
   ],
   "source": [
    "a = \"Hello, World!\"\n",
    "print(a.split(\",\")) # returns ['Hello', ' World!']"
   ]
  },
  {
   "cell_type": "markdown",
   "id": "b90435fd-f4ef-4a52-8d54-d6790f3e12c9",
   "metadata": {},
   "source": [
    "Example65"
   ]
  },
  {
   "cell_type": "code",
   "execution_count": 99,
   "id": "597b506a-bc84-4439-aea4-0db8c0eb5f04",
   "metadata": {},
   "outputs": [
    {
     "name": "stdout",
     "output_type": "stream",
     "text": [
      "HelloWorld\n"
     ]
    }
   ],
   "source": [
    "a = \"Hello\"\n",
    "b = \"World\"\n",
    "c = a + b\n",
    "print(c)"
   ]
  },
  {
   "cell_type": "markdown",
   "id": "153ce04a-66e9-4517-8059-08af6ce7ad99",
   "metadata": {},
   "source": [
    "Example66"
   ]
  },
  {
   "cell_type": "code",
   "execution_count": 102,
   "id": "293336fb-8993-4f0c-965a-fd8f1e1c917b",
   "metadata": {},
   "outputs": [
    {
     "name": "stdout",
     "output_type": "stream",
     "text": [
      "Hello World\n"
     ]
    }
   ],
   "source": [
    "a = \"Hello\"\n",
    "b = \"World\"\n",
    "c = a + \" \" + b\n",
    "print(c)"
   ]
  },
  {
   "cell_type": "markdown",
   "id": "8c3fb18d-ea34-422d-b89c-52b392e81760",
   "metadata": {},
   "source": [
    "Example67"
   ]
  },
  {
   "cell_type": "code",
   "execution_count": 105,
   "id": "209e7ca2-f9f7-4c39-bdae-b66ee7f97f8e",
   "metadata": {},
   "outputs": [
    {
     "ename": "TypeError",
     "evalue": "can only concatenate str (not \"int\") to str",
     "output_type": "error",
     "traceback": [
      "\u001b[1;31m---------------------------------------------------------------------------\u001b[0m",
      "\u001b[1;31mTypeError\u001b[0m                                 Traceback (most recent call last)",
      "Cell \u001b[1;32mIn[105], line 2\u001b[0m\n\u001b[0;32m      1\u001b[0m age \u001b[38;5;241m=\u001b[39m \u001b[38;5;241m36\u001b[39m\n\u001b[1;32m----> 2\u001b[0m txt \u001b[38;5;241m=\u001b[39m \u001b[38;5;124m\"\u001b[39m\u001b[38;5;124mMy name is John, I am \u001b[39m\u001b[38;5;124m\"\u001b[39m \u001b[38;5;241m+\u001b[39m age\n\u001b[0;32m      3\u001b[0m \u001b[38;5;28mprint\u001b[39m(txt)\n",
      "\u001b[1;31mTypeError\u001b[0m: can only concatenate str (not \"int\") to str"
     ]
    }
   ],
   "source": [
    "age = 36\n",
    "txt = \"My name is John, I am \" + age\n",
    "print(txt)"
   ]
  },
  {
   "cell_type": "markdown",
   "id": "34903f9b-fbdd-4786-9502-3bb28085979b",
   "metadata": {},
   "source": [
    "Example68"
   ]
  },
  {
   "cell_type": "code",
   "execution_count": 108,
   "id": "778147c4-ed02-4cf4-a965-8e3afc11fabd",
   "metadata": {},
   "outputs": [
    {
     "name": "stdout",
     "output_type": "stream",
     "text": [
      "My name is John, I am 36\n"
     ]
    }
   ],
   "source": [
    "age = 36\n",
    "txt = f\"My name is John, I am {age}\"\n",
    "print(txt)"
   ]
  },
  {
   "cell_type": "markdown",
   "id": "3e018381-1e22-4aa2-8e04-96a87137bb2a",
   "metadata": {},
   "source": [
    "Example69"
   ]
  },
  {
   "cell_type": "code",
   "execution_count": 111,
   "id": "57d9f86d-9413-4106-b7b7-6100b3ae8f3b",
   "metadata": {},
   "outputs": [
    {
     "name": "stdout",
     "output_type": "stream",
     "text": [
      "The price is 59 dollars\n"
     ]
    }
   ],
   "source": [
    "price = 59\n",
    "txt = f\"The price is {price} dollars\"\n",
    "print(txt)"
   ]
  },
  {
   "cell_type": "markdown",
   "id": "d4cc4f05-87aa-40c3-b4c1-caf4fb782f24",
   "metadata": {},
   "source": [
    "Example70"
   ]
  },
  {
   "cell_type": "code",
   "execution_count": 114,
   "id": "0f11c0e8-b115-4e46-8b10-580de2f8a7f2",
   "metadata": {},
   "outputs": [
    {
     "name": "stdout",
     "output_type": "stream",
     "text": [
      "The price is 59.00 dollars\n"
     ]
    }
   ],
   "source": [
    "price = 59\n",
    "txt = f\"The price is {price:.2f} dollars\"\n",
    "print(txt)"
   ]
  },
  {
   "cell_type": "markdown",
   "id": "e017c019-c3c7-49fd-9211-eb9c47102e08",
   "metadata": {},
   "source": [
    "Example71"
   ]
  },
  {
   "cell_type": "code",
   "execution_count": 117,
   "id": "b31ccc6d-03df-47ae-917a-170bdc5aac69",
   "metadata": {},
   "outputs": [
    {
     "name": "stdout",
     "output_type": "stream",
     "text": [
      "The price is 1180 dollars\n"
     ]
    }
   ],
   "source": [
    "txt = f\"The price is {20 * 59} dollars\"\n",
    "print(txt)"
   ]
  },
  {
   "cell_type": "markdown",
   "id": "fd973146-b003-432a-b283-5a3e3dd8ef95",
   "metadata": {},
   "source": [
    "Example72"
   ]
  },
  {
   "cell_type": "code",
   "execution_count": 120,
   "id": "aec61bdf-5195-48f1-9e84-b8d25c4b69a4",
   "metadata": {},
   "outputs": [
    {
     "ename": "SyntaxError",
     "evalue": "invalid syntax (7934146.py, line 1)",
     "output_type": "error",
     "traceback": [
      "\u001b[1;36m  Cell \u001b[1;32mIn[120], line 1\u001b[1;36m\u001b[0m\n\u001b[1;33m    txt = \"We are the so-called \"Vikings\" from the north.\"\u001b[0m\n\u001b[1;37m                                 ^\u001b[0m\n\u001b[1;31mSyntaxError\u001b[0m\u001b[1;31m:\u001b[0m invalid syntax\n"
     ]
    }
   ],
   "source": [
    "txt = \"We are the so-called \"Vikings\" from the north.\""
   ]
  },
  {
   "cell_type": "markdown",
   "id": "2074f1eb-106b-4329-8af3-709155384847",
   "metadata": {},
   "source": [
    "Example73"
   ]
  },
  {
   "cell_type": "code",
   "execution_count": 123,
   "id": "66ec20be-4c6b-4300-b223-044e8cb973d7",
   "metadata": {},
   "outputs": [],
   "source": [
    "txt = \"We are the so-called \\\"Vikings\\\" from the north.\""
   ]
  }
 ],
 "metadata": {
  "kernelspec": {
   "display_name": "Python [conda env:base] *",
   "language": "python",
   "name": "conda-base-py"
  },
  "language_info": {
   "codemirror_mode": {
    "name": "ipython",
    "version": 3
   },
   "file_extension": ".py",
   "mimetype": "text/x-python",
   "name": "python",
   "nbconvert_exporter": "python",
   "pygments_lexer": "ipython3",
   "version": "3.12.7"
  }
 },
 "nbformat": 4,
 "nbformat_minor": 5
}
